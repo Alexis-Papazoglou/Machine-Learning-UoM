{
  "nbformat": 4,
  "nbformat_minor": 0,
  "metadata": {
    "colab": {
      "provenance": []
    },
    "kernelspec": {
      "name": "python3",
      "display_name": "Python 3"
    },
    "language_info": {
      "name": "python"
    }
  },
  "cells": [
    {
      "cell_type": "markdown",
      "source": [
        "1. Να διαβάζει τα δεδομένα από το αρχείο excel."
      ],
      "metadata": {
        "id": "qD6DkC3uiUz4"
      }
    },
    {
      "cell_type": "code",
      "execution_count": null,
      "metadata": {
        "id": "LHSXLLjFYQ31"
      },
      "outputs": [],
      "source": [
        "from google.colab import drive\n",
        "import pandas as pd\n",
        "import matplotlib.pyplot as plt\n",
        "\n",
        "drive.mount('/content/gdrive')\n",
        "df = pd.read_excel(r'/content/gdrive/My Drive/Dataset2Use_Assignment1.xlsx')"
      ]
    },
    {
      "cell_type": "code",
      "source": [
        "df.head()"
      ],
      "metadata": {
        "id": "ts6WXrJbYzSH"
      },
      "execution_count": null,
      "outputs": []
    },
    {
      "cell_type": "markdown",
      "source": [
        "2. Να τυπώνει, σε γραφήματα τα ακόλουθα στοιχεία:"
      ],
      "metadata": {
        "id": "lqm40XbXicFm"
      }
    },
    {
      "cell_type": "code",
      "source": [
        "# Αλλάζω τα στοιχεία της στήλης 'ΕΝΔΕΙΞΗ ΑΣΥΝΕΠΕΙΑΣ (=2) (ν+1)' από 1,2 σε 0,1\n",
        "df['ΕΝΔΕΙΞΗ ΑΣΥΝΕΠΕΙΑΣ (=2) (ν+1)'] = df['ΕΝΔΕΙΞΗ ΑΣΥΝΕΠΕΙΑΣ (=2) (ν+1)'].replace({1: 1, 2: 0})"
      ],
      "metadata": {
        "id": "nbPzX71Eijsw"
      },
      "execution_count": null,
      "outputs": []
    },
    {
      "cell_type": "markdown",
      "source": [
        "a. Figure 1: Αριθμό υγιών και χρεωκοπημένων επιχειρήσεων, για κάθε έτος."
      ],
      "metadata": {
        "id": "gvLld6zZifvM"
      }
    },
    {
      "cell_type": "code",
      "source": [
        "grouped = df.groupby(['ΕΤΟΣ', 'ΕΝΔΕΙΞΗ ΑΣΥΝΕΠΕΙΑΣ (=2) (ν+1)']).size().unstack()\n",
        "\n",
        "# Plot the data with separate bars for healthy and broke companies\n",
        "ax = grouped.plot(kind='bar', stacked=False)\n",
        "plt.xlabel('Year')\n",
        "plt.ylabel('Number of Companies')\n",
        "plt.title('Number of Healthy and Broke Companies by Year')\n",
        "plt.legend(['Broke', 'Good Financial Health'])\n",
        "\n",
        "# Annotate the bars with the number of companies\n",
        "for p in ax.patches:\n",
        "    width, height = p.get_width(), p.get_height()\n",
        "    x, y = p.get_xy()\n",
        "    ax.text(x+width/2,\n",
        "            y+height/2,\n",
        "            '{:.0f}'.format(height),\n",
        "            horizontalalignment='center',\n",
        "            verticalalignment='center')"
      ],
      "metadata": {
        "id": "8BX60oyYi0Xn"
      },
      "execution_count": null,
      "outputs": []
    },
    {
      "cell_type": "markdown",
      "source": [
        "b. Figure 2: Την min, max, average τιμή για κάθε δείκτη.\n"
      ],
      "metadata": {
        "id": "2ajueYR_jfIW"
      }
    },
    {
      "cell_type": "code",
      "source": [
        "# Separate the data into broke and healthy companies\n",
        "broke_companies = df[df['ΕΝΔΕΙΞΗ ΑΣΥΝΕΠΕΙΑΣ (=2) (ν+1)'] == 0]\n",
        "healthy_companies = df[df['ΕΝΔΕΙΞΗ ΑΣΥΝΕΠΕΙΑΣ (=2) (ν+1)'] == 1]\n",
        "\n",
        "# Exclude the year and target columns\n",
        "metrics = df.columns.drop(['ΕΤΟΣ', 'ΕΝΔΕΙΞΗ ΑΣΥΝΕΠΕΙΑΣ (=2) (ν+1)'])\n",
        "\n",
        "# Calculate the min, max, and mean values for each metric for broke and healthy companies\n",
        "broke_stats = broke_companies[metrics].agg(['min', 'max', 'mean'])\n",
        "healthy_stats = healthy_companies[metrics].agg(['min', 'max', 'mean'])\n",
        "\n",
        "# Create subfigures for broke and healthy companies\n",
        "fig, ax = plt.subplots(2, 1, figsize=(15, 10))\n",
        "\n",
        "# Create a bar plot for each metric for broke companies\n",
        "broke_stats.T.plot(kind='bar', ax=ax[0], logy=True)\n",
        "ax[0].set_title('Broke Companies')\n",
        "ax[0].set_ylabel('Value (log scale)')\n",
        "ax[0].tick_params(axis='x', rotation=90)\n",
        "\n",
        "# Add the actual value on top of each bar\n",
        "for p in ax[0].patches:\n",
        "    ax[0].annotate(format(p.get_height(), '.2f'),\n",
        "                   (p.get_x() + p.get_width() / 2., p.get_height()),\n",
        "                   ha = 'center', va = 'center',\n",
        "                   xytext = (0, 10),\n",
        "                   textcoords = 'offset points')\n",
        "\n",
        "# Create a bar plot for each metric for healthy companies\n",
        "healthy_stats.T.plot(kind='bar', ax=ax[1], logy=True)\n",
        "ax[1].set_title('Healthy Companies')\n",
        "ax[1].set_ylabel('Value (log scale)')\n",
        "ax[1].tick_params(axis='x', rotation=90)\n",
        "\n",
        "# Add the actual value on top of each bar\n",
        "for p in ax[1].patches:\n",
        "    ax[1].annotate(format(p.get_height(), '.2f'),\n",
        "                   (p.get_x() + p.get_width() / 2., p.get_height()),\n",
        "                   ha = 'center', va = 'center',\n",
        "                   xytext = (0, 10),\n",
        "                   textcoords = 'offset points')\n",
        "\n",
        "plt.tight_layout()\n",
        "plt.show()\n",
        "\n",
        "df.columns"
      ],
      "metadata": {
        "id": "Ful00hxejjHc"
      },
      "execution_count": null,
      "outputs": []
    },
    {
      "cell_type": "markdown",
      "source": [
        "3. Να ελέγχει για τυχόν ελλείπεις εγγραφές [π.χ. NaNs] και να ειδοποιεί τον χρήστη με σχετικό\n",
        "μήνυμα."
      ],
      "metadata": {
        "id": "HVMMKlGVky0q"
      }
    },
    {
      "cell_type": "code",
      "source": [
        "# Check for NaN values in the DataFrame\n",
        "nan_values = df.isna()\n",
        "\n",
        "# If there are any NaN values, inform the user with a message\n",
        "if nan_values.any().any():\n",
        "    print(\"There are NaN values in the following columns:\")\n",
        "    print(nan_values.any()[nan_values.any() == True])\n",
        "else:\n",
        "    print(\"There are no NaN values in the DataFrame.\")"
      ],
      "metadata": {
        "id": "I__sRnFbk0qH"
      },
      "execution_count": null,
      "outputs": []
    },
    {
      "cell_type": "markdown",
      "source": [
        "4. Να κανονικοποιεί τα δεδομένα στο διάστημα [0,1] με χρήση τεχνικής τύπου map minmax."
      ],
      "metadata": {
        "id": "HsI8JQh2lR1v"
      }
    },
    {
      "cell_type": "code",
      "source": [
        "from sklearn.preprocessing import MinMaxScaler\n",
        "\n",
        "# Create a MinMaxScaler\n",
        "scaler = MinMaxScaler()\n",
        "\n",
        "# Fit the scaler to the data and transform the data\n",
        "df_normalized = pd.DataFrame(scaler.fit_transform(df), columns=df.columns)\n",
        "\n",
        "df_normalized.head()\n"
      ],
      "metadata": {
        "id": "y2KZ5Y_zlUIG"
      },
      "execution_count": null,
      "outputs": []
    },
    {
      "cell_type": "markdown",
      "source": [
        "5. Να κάνει χρήση του Stratified kfold ώστε να δημιουργεί 4 folds.\n",
        "\n",
        "6. Να τυπώνει στην οθόνη, για κάθε fold, πόσες χρεωκοπημένες και πόσες υγιείς εταιρείες\n",
        "υπάρχουν στο a) train και στο b) test set.\n",
        "\n",
        "7. Αν η κατανομή είναι πάνω από 3 υγιείς επιχειρήσεις για κάθε χρεωκοπημένη, διαλέξτε με\n",
        "τυχαίο τρόπο όσες υγιείς εταιρείες χρειαστεί, ώστε η αναλογία στο training set να είναι 3 υγιείς\n",
        "/ 1 χρεωκοπημένη."
      ],
      "metadata": {
        "id": "WRh5CtJOl_LP"
      }
    },
    {
      "cell_type": "code",
      "source": [
        "from sklearn.model_selection import StratifiedKFold\n",
        "import numpy as np\n",
        "\n",
        "# Create a StratifiedKFold object\n",
        "skf = StratifiedKFold(n_splits=4)\n",
        "\n",
        "# Assuming that 'target' is the name of your target variable\n",
        "X = df_normalized.drop('ΕΝΔΕΙΞΗ ΑΣΥΝΕΠΕΙΑΣ (=2) (ν+1)', axis=1)\n",
        "y = df_normalized['ΕΝΔΕΙΞΗ ΑΣΥΝΕΠΕΙΑΣ (=2) (ν+1)']\n",
        "\n",
        "\n",
        "import numpy as np\n",
        "\n",
        "# Generate the stratified folds\n",
        "fold = 1\n",
        "folds = []\n",
        "for train_index, test_index in skf.split(X, y):\n",
        "    X_train, X_test = X.iloc[train_index], X.iloc[test_index]\n",
        "    y_train, y_test = y.iloc[train_index], y.iloc[test_index]\n",
        "\n",
        "    # Find the indices of the healthy and bankrupt companies in the training set\n",
        "    healthy_indices = y_train[y_train == 1].index\n",
        "    bankrupt_indices = y_train[y_train == 0].index\n",
        "\n",
        "    # Calculate the number of healthy companies needed to achieve a 3:1 ratio\n",
        "    required_healthy = len(bankrupt_indices) * 3\n",
        "\n",
        "    if len(healthy_indices) > required_healthy:\n",
        "        # Randomly select the required number of healthy companies\n",
        "        selected_healthy_indices = np.random.choice(healthy_indices, size=required_healthy, replace=False)\n",
        "\n",
        "        # Find the indices of the healthy companies that were not selected\n",
        "        not_selected_healthy_indices = list(set(healthy_indices) - set(selected_healthy_indices))\n",
        "\n",
        "        # Remove the not selected healthy companies from the training set and add them to the test set\n",
        "        X_train = X_train.drop(not_selected_healthy_indices)\n",
        "        y_train = y_train.drop(not_selected_healthy_indices)\n",
        "        X_test = pd.concat([X_test, X.loc[not_selected_healthy_indices]])\n",
        "        y_test = pd.concat([y_test, y.loc[not_selected_healthy_indices]])\n",
        "\n",
        "    # Print the counts for the adjusted training set\n",
        "    train_counts = y_train.value_counts()\n",
        "    print(f\"Fold {fold} Adjusted Training Set: {train_counts[0]} broke companies, {train_counts[1]} healthy companies\")\n",
        "\n",
        "    # Print the counts for the adjusted test set\n",
        "    test_counts = y_test.value_counts()\n",
        "    print(f\"Fold {fold} Adjusted Test Set: {test_counts[0]} broke companies, {test_counts[1]} healthy companies\")\n",
        "\n",
        "    folds.append((X_train, y_train, X_test, y_test))\n",
        "\n",
        "    fold += 1\n"
      ],
      "metadata": {
        "id": "c7FC4HuXmGrV"
      },
      "execution_count": null,
      "outputs": []
    },
    {
      "cell_type": "markdown",
      "source": [
        "8. Να υλοποιεί (εκπαιδεύει) τα ακόλουθα μοντέλα:\n",
        "a. Linear Discriminant Analysis\n",
        "b. Logistic Regression\n",
        "c. Decision Trees\n",
        "d. Random Forests\n",
        "e. k-Nearest Neighbors\n",
        "f. Naïve Bayes\n",
        "g. Support Vector Machines\n",
        "h. (Επιπλέον μοντέλο) Gradient Boosting Classifier\n",
        "\n",
        "9. Για κάθε εκπαιδευμένο μοντέλο:\n",
        "a. Να τυπώνει τα confusion matrices, ως figures, τόσο στο train όσο και στο test set.\n",
        "b. Θα υπολογίζει την επίδοση τόσο στο train όσο και στο test set, με βάση τις ακόλουθες\n",
        "μετρικές: Accuracy, Precision, Recall, F1 score, AUC ROC.\n",
        "c. Να τυπώνει τα αποτελέσματα στην οθόνη με ακρίβεια 2 δεκαδικών ψηφίων.\n",
        "d. Να καταχωρεί σε ένα dataframe (Pandas) σε μια νέα γραμμή τις ακόλουθες\n",
        "πληροφορίες:\n",
        "i. Classifier Name (str)\n",
        "ii. Training or test set (str)\n",
        "iii. Balanced or unbalanced train set (str)\n",
        "iv. Number of training samples (int)\n",
        "v. Number of non-healthy companies in training sample (int)\n",
        "vi. True positives TP (int)\n",
        "vii. True negatives TN (int)\n",
        "viii. False positives FP (int)\n",
        "ix. False negatives FN (int)\n",
        "x. ROC-AUC (double)"
      ],
      "metadata": {
        "id": "DL8miIy0tZqh"
      }
    },
    {
      "cell_type": "code",
      "source": [
        "from sklearn.discriminant_analysis import LinearDiscriminantAnalysis\n",
        "from sklearn.linear_model import LogisticRegression\n",
        "from sklearn.tree import DecisionTreeClassifier\n",
        "from sklearn.ensemble import RandomForestClassifier\n",
        "from sklearn.neighbors import KNeighborsClassifier\n",
        "from sklearn.naive_bayes import GaussianNB\n",
        "from sklearn.svm import SVC\n",
        "from sklearn.ensemble import GradientBoostingClassifier\n",
        "\n",
        "from sklearn.metrics import confusion_matrix, accuracy_score, precision_score, recall_score, f1_score, roc_auc_score\n",
        "import seaborn as sns\n",
        "\n",
        "# Create the dataframe to store the results\n",
        "results = pd.DataFrame(columns=['Classifier Name', 'Data Set', 'Train Set Balance', 'Number of Training Samples', 'Number of Non-Healthy Companies', 'TP', 'TN', 'FP', 'FN', 'ROC-AUC'])\n",
        "\n",
        "# Create the models\n",
        "models = {\n",
        "    'Linear Discriminant Analysis': LinearDiscriminantAnalysis(),\n",
        "    'Logistic Regression': LogisticRegression(max_iter=1000),\n",
        "    'Decision Trees': DecisionTreeClassifier(),\n",
        "    'Random Forests': RandomForestClassifier(),\n",
        "    'k-Nearest Neighbors': KNeighborsClassifier(),\n",
        "    'Naïve Bayes': GaussianNB(),\n",
        "    'Support Vector Machines': SVC(),\n",
        "    'Gradient Boosting': GradientBoostingClassifier()\n",
        "}\n",
        "\n",
        "for name, model in models.items():\n",
        "    for i, (X_train, y_train, X_test, y_test) in enumerate(folds, 1):\n",
        "        # Train the model and make predictions\n",
        "        model.fit(X_train, y_train)\n",
        "        train_preds = model.predict(X_train)\n",
        "        test_preds = model.predict(X_test)\n",
        "\n",
        "    # Calculate the confusion matrices\n",
        "    train_cm = confusion_matrix(y_train, train_preds)\n",
        "    test_cm = confusion_matrix(y_test, test_preds)\n",
        "\n",
        "    # Print the confusion matrices\n",
        "    fig, ax = plt.subplots(1, 2, figsize=(10, 5))\n",
        "    sns.heatmap(train_cm, annot=True, fmt='d', ax=ax[0])\n",
        "    ax[0].set_title(f'Train Confusion Matrix: {name} on Fold {i}')\n",
        "    sns.heatmap(test_cm, annot=True, fmt='d', ax=ax[1])\n",
        "    ax[1].set_title(f'Test Confusion Matrix: {name} on Fold {i}')\n",
        "    plt.show()\n",
        "\n",
        "    # Calculate the performance metrics\n",
        "    for data, preds, true in [('Train', train_preds, y_train), ('Test', test_preds, y_test)]:\n",
        "        accuracy = accuracy_score(true, preds)\n",
        "        precision = precision_score(true, preds)\n",
        "        recall = recall_score(true, preds)\n",
        "        f1 = f1_score(true, preds)\n",
        "        roc_auc = roc_auc_score(true, preds)\n",
        "\n",
        "        # Print the results\n",
        "        print(f'{name} on {data} Set of Fold {i}: Accuracy={accuracy:.2f}, Precision={precision:.2f}, Recall={recall:.2f}, F1 Score={f1:.2f}, ROC AUC={roc_auc:.2f}')\n",
        "\n",
        "        # Add the results to the dataframe\n",
        "        balance = 'Balanced' if len(y_train[y_train == 0]) == len(y_train[y_train == 1]) else 'Unbalanced'\n",
        "        results = results.append({\n",
        "            'Classifier Name': name,\n",
        "            'Data Set': data,\n",
        "            'Train Set Balance': balance,\n",
        "            'Number of Training Samples': len(X_train),\n",
        "            'Number of Non-Healthy Companies': len(y_train[y_train == 0]),\n",
        "            'TP': confusion_matrix(true, preds)[1, 1],\n",
        "            'TN': confusion_matrix(true, preds)[0, 0],\n",
        "            'FP': confusion_matrix(true, preds)[0, 1],\n",
        "            'FN': confusion_matrix(true, preds)[1, 0],\n",
        "            'ROC-AUC': roc_auc\n",
        "        }, ignore_index=True)"
      ],
      "metadata": {
        "id": "yOTppAQ9qLqT"
      },
      "execution_count": null,
      "outputs": []
    },
    {
      "cell_type": "markdown",
      "source": [
        "10. Όταν ολοκληρωθεί η εκτέλεση τα αποτελέσματα θα αποθηκεύουν σε ένα αρχείο csv με όνομα\n",
        "balancedDataOutcomes.csv"
      ],
      "metadata": {
        "id": "q-26iQUc16xd"
      }
    },
    {
      "cell_type": "code",
      "source": [
        "results.to_csv('balancedDataOutcomes.csv', index=False)\n",
        "\n",
        "results = pd.read_csv('./balancedDataOutcomes.csv')\n",
        "\n",
        "results.head()"
      ],
      "metadata": {
        "id": "annwJWXY1-EX"
      },
      "execution_count": null,
      "outputs": []
    }
  ]
}